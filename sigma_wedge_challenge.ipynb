{
 "cells": [
  {
   "cell_type": "code",
   "execution_count": 2,
   "id": "ca3bf62a-6337-4452-9659-8b2cb6b3ec14",
   "metadata": {
    "tags": []
   },
   "outputs": [
    {
     "data": {
      "text/plain": [
       "{'status': 'successfully created quantrocket.v2.history.usstock-1d.sqlite'}"
      ]
     },
     "execution_count": 2,
     "metadata": {},
     "output_type": "execute_result"
    }
   ],
   "source": [
    "#creating historical db to store data\n",
    "from quantrocket.history import create_usstock_db\n",
    "create_usstock_db(\"usstock-1d\",bar_size=\"1 day\",free=True)\n"
   ]
  },
  {
   "cell_type": "code",
   "execution_count": 3,
   "id": "1209ad45-bc5e-4c0f-bf85-79b18d58fd94",
   "metadata": {
    "tags": []
   },
   "outputs": [
    {
     "data": {
      "text/plain": [
       "{'status': 'the historical data will be collected asynchronously'}"
      ]
     },
     "execution_count": 3,
     "metadata": {},
     "output_type": "execute_result"
    }
   ],
   "source": [
    "#collection previous data\n",
    "from quantrocket.history import collect_history\n",
    "collect_history(\"usstock-1d\")"
   ]
  },
  {
   "cell_type": "code",
   "execution_count": 2,
   "id": "90f64727-0cca-4d1e-abf6-c73f6216f59d",
   "metadata": {
    "tags": []
   },
   "outputs": [
    {
     "data": {
      "text/html": [
       "<div>\n",
       "<style scoped>\n",
       "    .dataframe tbody tr th:only-of-type {\n",
       "        vertical-align: middle;\n",
       "    }\n",
       "\n",
       "    .dataframe tbody tr th {\n",
       "        vertical-align: top;\n",
       "    }\n",
       "\n",
       "    .dataframe thead th {\n",
       "        text-align: right;\n",
       "    }\n",
       "</style>\n",
       "<table border=\"1\" class=\"dataframe\">\n",
       "  <thead>\n",
       "    <tr style=\"text-align: right;\">\n",
       "      <th></th>\n",
       "      <th>Symbol</th>\n",
       "      <th>Exchange</th>\n",
       "      <th>Country</th>\n",
       "      <th>Currency</th>\n",
       "      <th>SecType</th>\n",
       "      <th>Etf</th>\n",
       "      <th>Timezone</th>\n",
       "      <th>Name</th>\n",
       "      <th>PriceMagnifier</th>\n",
       "      <th>Multiplier</th>\n",
       "      <th>Delisted</th>\n",
       "      <th>DateDelisted</th>\n",
       "      <th>LastTradeDate</th>\n",
       "      <th>RolloverDate</th>\n",
       "    </tr>\n",
       "    <tr>\n",
       "      <th>Sid</th>\n",
       "      <th></th>\n",
       "      <th></th>\n",
       "      <th></th>\n",
       "      <th></th>\n",
       "      <th></th>\n",
       "      <th></th>\n",
       "      <th></th>\n",
       "      <th></th>\n",
       "      <th></th>\n",
       "      <th></th>\n",
       "      <th></th>\n",
       "      <th></th>\n",
       "      <th></th>\n",
       "      <th></th>\n",
       "    </tr>\n",
       "  </thead>\n",
       "  <tbody>\n",
       "    <tr>\n",
       "      <th>FIBBG000B9XRY4</th>\n",
       "      <td>AAPL</td>\n",
       "      <td>XNAS</td>\n",
       "      <td>US</td>\n",
       "      <td>USD</td>\n",
       "      <td>STK</td>\n",
       "      <td>False</td>\n",
       "      <td>America/New_York</td>\n",
       "      <td>APPLE INC</td>\n",
       "      <td>1</td>\n",
       "      <td>1</td>\n",
       "      <td>False</td>\n",
       "      <td>NaT</td>\n",
       "      <td>NaT</td>\n",
       "      <td>NaT</td>\n",
       "    </tr>\n",
       "    <tr>\n",
       "      <th>FIBBG000BFWKC0</th>\n",
       "      <td>MON</td>\n",
       "      <td>XNYS</td>\n",
       "      <td>US</td>\n",
       "      <td>USD</td>\n",
       "      <td>STK</td>\n",
       "      <td>False</td>\n",
       "      <td>America/New_York</td>\n",
       "      <td>MONSANTO CO</td>\n",
       "      <td>1</td>\n",
       "      <td>1</td>\n",
       "      <td>True</td>\n",
       "      <td>2018-06-06</td>\n",
       "      <td>NaT</td>\n",
       "      <td>NaT</td>\n",
       "    </tr>\n",
       "    <tr>\n",
       "      <th>FIBBG000BKZB36</th>\n",
       "      <td>HD</td>\n",
       "      <td>XNYS</td>\n",
       "      <td>US</td>\n",
       "      <td>USD</td>\n",
       "      <td>STK</td>\n",
       "      <td>False</td>\n",
       "      <td>America/New_York</td>\n",
       "      <td>HOME DEPOT INC</td>\n",
       "      <td>1</td>\n",
       "      <td>1</td>\n",
       "      <td>False</td>\n",
       "      <td>NaT</td>\n",
       "      <td>NaT</td>\n",
       "      <td>NaT</td>\n",
       "    </tr>\n",
       "    <tr>\n",
       "      <th>FIBBG000BMHYD1</th>\n",
       "      <td>JNJ</td>\n",
       "      <td>XNYS</td>\n",
       "      <td>US</td>\n",
       "      <td>USD</td>\n",
       "      <td>STK</td>\n",
       "      <td>False</td>\n",
       "      <td>America/New_York</td>\n",
       "      <td>JOHNSON &amp; JOHNSON</td>\n",
       "      <td>1</td>\n",
       "      <td>1</td>\n",
       "      <td>False</td>\n",
       "      <td>NaT</td>\n",
       "      <td>NaT</td>\n",
       "      <td>NaT</td>\n",
       "    </tr>\n",
       "    <tr>\n",
       "      <th>FIBBG000BPH459</th>\n",
       "      <td>MSFT</td>\n",
       "      <td>XNAS</td>\n",
       "      <td>US</td>\n",
       "      <td>USD</td>\n",
       "      <td>STK</td>\n",
       "      <td>False</td>\n",
       "      <td>America/New_York</td>\n",
       "      <td>MICROSOFT CORP</td>\n",
       "      <td>1</td>\n",
       "      <td>1</td>\n",
       "      <td>False</td>\n",
       "      <td>NaT</td>\n",
       "      <td>NaT</td>\n",
       "      <td>NaT</td>\n",
       "    </tr>\n",
       "  </tbody>\n",
       "</table>\n",
       "</div>"
      ],
      "text/plain": [
       "               Symbol Exchange Country Currency SecType    Etf  \\\n",
       "Sid                                                              \n",
       "FIBBG000B9XRY4   AAPL     XNAS      US      USD     STK  False   \n",
       "FIBBG000BFWKC0    MON     XNYS      US      USD     STK  False   \n",
       "FIBBG000BKZB36     HD     XNYS      US      USD     STK  False   \n",
       "FIBBG000BMHYD1    JNJ     XNYS      US      USD     STK  False   \n",
       "FIBBG000BPH459   MSFT     XNAS      US      USD     STK  False   \n",
       "\n",
       "                        Timezone               Name  PriceMagnifier  \\\n",
       "Sid                                                                   \n",
       "FIBBG000B9XRY4  America/New_York          APPLE INC               1   \n",
       "FIBBG000BFWKC0  America/New_York        MONSANTO CO               1   \n",
       "FIBBG000BKZB36  America/New_York     HOME DEPOT INC               1   \n",
       "FIBBG000BMHYD1  America/New_York  JOHNSON & JOHNSON               1   \n",
       "FIBBG000BPH459  America/New_York     MICROSOFT CORP               1   \n",
       "\n",
       "                Multiplier  Delisted DateDelisted LastTradeDate RolloverDate  \n",
       "Sid                                                                           \n",
       "FIBBG000B9XRY4           1     False          NaT           NaT          NaT  \n",
       "FIBBG000BFWKC0           1      True   2018-06-06           NaT          NaT  \n",
       "FIBBG000BKZB36           1     False          NaT           NaT          NaT  \n",
       "FIBBG000BMHYD1           1     False          NaT           NaT          NaT  \n",
       "FIBBG000BPH459           1     False          NaT           NaT          NaT  "
      ]
     },
     "execution_count": 2,
     "metadata": {},
     "output_type": "execute_result"
    }
   ],
   "source": [
    "#getting US Stock data\n",
    "from quantrocket.master import get_securities\n",
    "securities=get_securities(vendors=\"usstock\",sec_types=\"STK\")\n",
    "securities.head()\n",
    "#sid of apple = FIBBG000B9XRY4"
   ]
  },
  {
   "cell_type": "code",
   "execution_count": null,
   "id": "e5796313-a143-4563-ae03-f1801341e27f",
   "metadata": {},
   "outputs": [],
   "source": [
    "#creating a universe\n",
    "from quantrocket.master import create_universe\n",
    "create_universe(\"usstock-free\",sids=securities.index.to_list())"
   ]
  },
  {
   "cell_type": "code",
   "execution_count": 4,
   "id": "d85b1520-a3d2-4741-8037-361c2833cc89",
   "metadata": {
    "tags": []
   },
   "outputs": [
    {
     "data": {
      "text/html": [
       "<div>\n",
       "<style scoped>\n",
       "    .dataframe tbody tr th:only-of-type {\n",
       "        vertical-align: middle;\n",
       "    }\n",
       "\n",
       "    .dataframe tbody tr th {\n",
       "        vertical-align: top;\n",
       "    }\n",
       "\n",
       "    .dataframe thead th {\n",
       "        text-align: right;\n",
       "    }\n",
       "</style>\n",
       "<table border=\"1\" class=\"dataframe\">\n",
       "  <thead>\n",
       "    <tr style=\"text-align: right;\">\n",
       "      <th></th>\n",
       "      <th>Sid</th>\n",
       "      <th>FIBBG000B9XRY4</th>\n",
       "      <th>FIBBG000BKZB36</th>\n",
       "      <th>FIBBG000BMHYD1</th>\n",
       "      <th>FIBBG000BPH459</th>\n",
       "      <th>FIBBG000GZQ728</th>\n",
       "      <th>FIBBG00B3T3HD3</th>\n",
       "    </tr>\n",
       "    <tr>\n",
       "      <th>Field</th>\n",
       "      <th>Date</th>\n",
       "      <th></th>\n",
       "      <th></th>\n",
       "      <th></th>\n",
       "      <th></th>\n",
       "      <th></th>\n",
       "      <th></th>\n",
       "    </tr>\n",
       "  </thead>\n",
       "  <tbody>\n",
       "    <tr>\n",
       "      <th rowspan=\"5\" valign=\"top\">Close</th>\n",
       "      <th>2023-01-03</th>\n",
       "      <td>124.2163</td>\n",
       "      <td>305.5299</td>\n",
       "      <td>171.6388</td>\n",
       "      <td>237.0360</td>\n",
       "      <td>102.0452</td>\n",
       "      <td>43.8958</td>\n",
       "    </tr>\n",
       "    <tr>\n",
       "      <th>2023-01-04</th>\n",
       "      <td>125.4975</td>\n",
       "      <td>309.2243</td>\n",
       "      <td>173.5075</td>\n",
       "      <td>226.6673</td>\n",
       "      <td>102.3422</td>\n",
       "      <td>44.4374</td>\n",
       "    </tr>\n",
       "    <tr>\n",
       "      <th>2023-01-05</th>\n",
       "      <td>124.1666</td>\n",
       "      <td>305.1043</td>\n",
       "      <td>172.2264</td>\n",
       "      <td>219.9494</td>\n",
       "      <td>104.6320</td>\n",
       "      <td>44.7919</td>\n",
       "    </tr>\n",
       "    <tr>\n",
       "      <th>2023-01-06</th>\n",
       "      <td>128.7352</td>\n",
       "      <td>307.0966</td>\n",
       "      <td>173.6231</td>\n",
       "      <td>222.5416</td>\n",
       "      <td>105.8967</td>\n",
       "      <td>45.6485</td>\n",
       "    </tr>\n",
       "    <tr>\n",
       "      <th>2023-01-09</th>\n",
       "      <td>129.2616</td>\n",
       "      <td>307.3674</td>\n",
       "      <td>169.1248</td>\n",
       "      <td>224.7083</td>\n",
       "      <td>103.9230</td>\n",
       "      <td>49.4985</td>\n",
       "    </tr>\n",
       "  </tbody>\n",
       "</table>\n",
       "</div>"
      ],
      "text/plain": [
       "Sid               FIBBG000B9XRY4  FIBBG000BKZB36  FIBBG000BMHYD1  \\\n",
       "Field Date                                                         \n",
       "Close 2023-01-03        124.2163        305.5299        171.6388   \n",
       "      2023-01-04        125.4975        309.2243        173.5075   \n",
       "      2023-01-05        124.1666        305.1043        172.2264   \n",
       "      2023-01-06        128.7352        307.0966        173.6231   \n",
       "      2023-01-09        129.2616        307.3674        169.1248   \n",
       "\n",
       "Sid               FIBBG000BPH459  FIBBG000GZQ728  FIBBG00B3T3HD3  \n",
       "Field Date                                                        \n",
       "Close 2023-01-03        237.0360        102.0452         43.8958  \n",
       "      2023-01-04        226.6673        102.3422         44.4374  \n",
       "      2023-01-05        219.9494        104.6320         44.7919  \n",
       "      2023-01-06        222.5416        105.8967         45.6485  \n",
       "      2023-01-09        224.7083        103.9230         49.4985  "
      ]
     },
     "execution_count": 4,
     "metadata": {},
     "output_type": "execute_result"
    }
   ],
   "source": [
    "#pulling price data for the relevant dates ie 2023\n",
    "from quantrocket import get_prices\n",
    "prices=get_prices(\"usstock-1d\", universes=\"usstock-free\",start_date=\"2023-01-01\",end_date=\"2023-12-31\",fields=[\"Close\"])\n",
    "prices.head(5)"
   ]
  },
  {
   "cell_type": "code",
   "execution_count": 5,
   "id": "f90f909b-77e4-40be-b642-41732b195e2b",
   "metadata": {},
   "outputs": [
    {
     "name": "stdout",
     "output_type": "stream",
     "text": [
      "Field  Date      \n",
      "Close  2023-01-03    124.2163\n",
      "       2023-01-04    125.4975\n",
      "       2023-01-05    124.1666\n",
      "       2023-01-06    128.7352\n",
      "       2023-01-09    129.2616\n",
      "                       ...   \n",
      "       2023-12-22    193.3533\n",
      "       2023-12-26    192.8040\n",
      "       2023-12-27    192.9038\n",
      "       2023-12-28    193.3333\n",
      "       2023-12-29    192.2846\n",
      "Name: FIBBG000B9XRY4, Length: 250, dtype: float64\n"
     ]
    }
   ],
   "source": [
    "#extracting apple data using sid\n",
    "apple_data=prices[\"FIBBG000B9XRY4\"]\n",
    "print(apple_data)"
   ]
  },
  {
   "cell_type": "code",
   "execution_count": 7,
   "id": "27b537c3-aca7-417a-a125-f5118f3ab9ad",
   "metadata": {
    "tags": []
   },
   "outputs": [
    {
     "name": "stdout",
     "output_type": "stream",
     "text": [
      "[0, 0.010314266324145852, -0.010604992131317355, 0.036794113714960296, 0.004089013727403191, 0.0044568533887869655, 0.02111174181304805, -0.0005988891134932025, 0.010119291106223888, 0.008755964202085723, -0.005369889069201903, 0.00044382520733554447, 0.019220420002873165, 0.02350051742181537, 0.010063019633698222, -0.004700576657758638, 0.014803568982417012, 0.013683980824941603, -0.02007811836982236, 0.009021016885186315, 0.00790062600702964, 0.037062448550339945, 0.02440007877669143, -0.017928852868838087, 0.01924492167255171, -0.017652987348497063, -0.006911315390070449, 0.002455949738454667, 0.018807228899620585, -0.004225226944218683, 0.01390345345325651, -0.010429415689947227, -0.007546409634393457, -0.02667982952429855, 0.002895897332077671, 0.003290588538705798, -0.01800523260039249, 0.008247042611205012, -0.003447863384955102, -0.014245641841594247, 0.004129003691058104, 0.035090016005754704, 0.018539807133285815, -0.014496779038162017, 0.008377593171130994, -0.014914664365796282, -0.013878717275127624, 0.013265715082633939, 0.014088892244394536, 0.0026215609718815867, 0.018693934788080124, -0.005454046993178509, 0.0154841513325594, 0.011943974456501288, -0.00910345802645019, 0.00696978189971464, 0.008305595301803805, -0.012293662703451426, -0.003979938973422345, 0.019790451046788355, 0.009890167612577449, 0.015644156583982455, 0.007701288527018902, -0.003249485593906924, -0.011290398942401355, 0.005496330356896146, -0.015972691161260554, -0.007590756823397934, -0.004353336088424727, 0.03410361067503932, -0.002114390852618212, 0.00012109572769408733, 0.0075045922579914355, 0.006968580092169703, -0.005846227659829771, -0.00978130512315006, 0.0018788403826401363, -0.00943556851170134, -6.138716578519345e-05, 0.028395148888363714, 0.007541378186415769, -0.0005302789267153742, -0.006191253047016676, -0.006467826099405082, -0.00991289072045128, 0.046926865474338234, -0.00040371042899307923, -0.009971097261077241, 0.01039167027590159, 0.0011237679824598842, -0.0054175406113031125, -0.0028971814729316595, 0.0, 0.0036028267165792273, 0.013666010312149122, 0.0006285794906441469, -0.0054805669710152145, -0.015154903212867206, 0.0016320898474531033, 0.006691823811184843, 0.014104852024989867, 0.010659843573219337, -0.00028198905338882175, 0.016022402363485604, 0.004775294679053005, -0.007571092032654541, -0.0020601139575656307, -0.007756641126780165, 0.015465177661535571, 0.0021600169465421848, 0.01563899112446068, -0.002612156963211933, 0.0034914499183686253, 0.011198713722476614, -0.005859833558490135, 0.00048699024825097996, -0.005675531507909273, 0.016525100907898167, -0.001711008652216993, -0.007553280339367808, 0.015059509746333067, 0.006327664433593069, 0.001796233109255183, 0.02310264228395679, -0.007784397045655648, -0.005871582604341045, 0.0025086920065022582, -0.005890958386437387, -0.010856104880745582, -0.0028099501724879756, 0.008985257835744824, 0.004057696529796538, 0.0007871837631492922, 0.017305473994668873, -0.0013398755556292175, 0.007071638820944531, -0.010097636732077003, -0.0061615540444652, 0.004219996338624943, 0.0045137344407416196, 0.004544785189548505, -0.006580641897768561, 0.013507741868440113, 0.0031662101397675183, -0.0043014698179093995, -0.015464832915545252, -0.007321873085795382, -0.04802014515434466, -0.017253430026683354, 0.005311920245416036, -0.00895457550498961, -0.0012344420023539327, 0.00033733852315674185, 0.009393232271169238, -0.011200281571324357, -0.0049590176206998696, -0.014555427481219452, 0.002815909688066088, 0.007736802761231409, 0.007904903959750107, 0.021949276805271423, -0.02617087514503088, 0.01264357100874585, 0.008846030569016713, 0.021810157374991427, 0.019172483192970633, 0.0011722320976810608, 0.008463382887625815, 0.0012668704384196673, -0.03579375188283859, -0.029249081187152724, 0.0034918046486624526, 0.0066222594345675175, -0.017060220005287955, -0.011854846093434243, 0.008782273849254575, -0.0041538042879857556, 0.016913100018905048, 0.006181084596694455, -0.019992553462500073, -0.008889043777926332, 0.004944667909462643, 0.007379934104863166, -0.02339825604899547, -0.008897769231711143, 0.001525982888284401, 0.00304614086962442, 0.014836021990222947, -0.00777032699885687, 0.007308944209982096, 0.0071981779395591345, 0.014750314260280246, 0.008451081338480538, -0.003352439719100848, 0.007904311964039375, 0.005060930796399592, -0.010292262300393543, -0.0007270705112646257, -0.00878448804930398, -0.007395375555700065, -0.002160962637583297, -0.014704084093212848, 0.0006941846809620842, 0.002543578117230552, -0.013492023578091445, -0.024605480815037963, 0.007969577911545334, 0.012305062562356642, 0.0028189711814951544, 0.018738551500634054, 0.0206933276164032, -0.005181513903192565, 0.014605599437434084, 0.014450726396112062, 0.005884772709476764, -0.002624761123713403, 0.023220023546508647, -0.008583365921367481, 0.01428552077999825, 0.003041114608835089, 0.009041893717007584, -0.00010503081783648609, 0.00927799299333908, -0.004231038774933828, 0.003514761261994768, -0.007004378587107524, -0.0009476729569030184, 0.0032139599394559325, -0.0054092059573836145, 0.003062464871804152, 0.006791493659462762, -0.009464581251050323, 0.021063108453680517, -0.005687115468736531, 0.010139273793712718, 0.007412546180234832, -0.012927413504307306, 0.007920333295669412, 0.016691187322555083, 0.0007576841974288258, -0.0027256990510847313, -0.008503016954340708, 0.005359833653989633, -0.01071386808616639, -0.0007698565692457155, -0.005547443603647461, -0.002840913498761015, 0.0005176241156821833, 0.002226498389352717, -0.0054243112800536515]\n"
     ]
    }
   ],
   "source": [
    "#calculating %returns\n",
    "import pandas as pd \n",
    "returns=[0]\n",
    "for i in range(1,len(apple_data)):\n",
    "                returns.append((apple_data[i]-apple_data[i-1])/apple_data[i-1])\n",
    "print(returns)"
   ]
  },
  {
   "cell_type": "code",
   "execution_count": 8,
   "id": "48e635d9-27cd-4fd5-8473-4a2c6e43353b",
   "metadata": {
    "tags": []
   },
   "outputs": [
    {
     "name": "stdout",
     "output_type": "stream",
     "text": [
      "[0, 1, -1, 1, 0, 0, 1, 0, 1, 0, 0, 0, 1, 1, 1, 0, 1, 1, -1, 0, 0, 1, 1, -1, 1, -1, 0, 0, 1, 0, 1, -1, 0, -1, 0, 0, -1, 0, 0, -1, 0, 1, 1, -1, 0, -1, -1, 1, 1, 0, 1, 0, 1, 1, 0, 0, 0, -1, 0, 1, 0, 1, 0, 0, -1, 0, -1, 0, 0, 1, 0, 0, 0, 0, 0, 0, 0, 0, 0, 1, 0, 0, 0, 0, 0, 1, 0, 0, 1, 0, 0, 0, 0, 0, 1, 0, 0, -1, 0, 0, 1, 1, 0, 1, 0, 0, 0, 0, 1, 0, 1, 0, 0, 1, 0, 0, 0, 1, 0, 0, 1, 0, 0, 1, 0, 0, 0, 0, -1, 0, 0, 0, 0, 1, 0, 0, -1, 0, 0, 0, 0, 0, 1, 0, 0, -1, 0, -1, -1, 0, 0, 0, 0, 0, -1, 0, -1, 0, 0, 0, 1, -1, 1, 0, 1, 1, 0, 0, 0, -1, -1, 0, 0, -1, -1, 0, 0, 1, 0, -1, 0, 0, 0, -1, 0, 0, 0, 1, 0, 0, 0, 1, 0, 0, 0, 0, -1, 0, 0, 0, 0, -1, 0, 0, -1, -1, 0, 1, 0, 1, 1, 0, 1, 1, 0, 0, 1, 0, 1, 0, 0, 0, 0, 0, 0, 0, 0, 0, 0, 0, 0, 0, 1, 0, 1, 0, -1, 0, 1, 0, 0, 0, 0, -1, 0, 0, 0, 0, 0, 0]\n"
     ]
    }
   ],
   "source": [
    "#generating states based on %returns 1-bull 0-flat -1-bear\n",
    "def state_assigner(value):\n",
    "    if value>=0.01:\n",
    "        return 1\n",
    "    elif value>-0.01:\n",
    "        return 0\n",
    "    else:\n",
    "        return -1\n",
    "state_list=[state_assigner(val) for val in returns]\n",
    "print(state_list)"
   ]
  },
  {
   "cell_type": "code",
   "execution_count": null,
   "id": "becb02eb-4f5e-44db-90de-0771ce54d1d3",
   "metadata": {},
   "outputs": [],
   "source": [
    "#probability distribution\n",
    "transition_states = {(prev, next1): 0 for prev in [-1, 0, 1] for next1 in [-1, 0, 1]}\n",
    "for i in range(1, len(state_list)):\n",
    "    prev = state_list[i-1]\n",
    "    next1 = state_list[i]\n",
    "    transition_states[(prev, next1)] += 1\n",
    "    \n",
    "transition_prob = {}\n",
    "for (prev, next1), count in transition_states.items():\n",
    "    total_occurrences = sum(value for key, value in transition_states.items() if key[0] == prev)\n",
    "    probability = count / total_occurrences\n",
    "    transition_prob[(prev, next1)] = probability\n",
    "\n",
    "print(transition_prob.items())"
   ]
  },
  {
   "cell_type": "code",
   "execution_count": 14,
   "id": "3e3ce2e3-eda8-4be2-8320-eb45aa49079d",
   "metadata": {},
   "outputs": [
    {
     "name": "stdout",
     "output_type": "stream",
     "text": [
      "41\n",
      "[1, 6, 8, 12, 16, 21, 28, 30, 41, 50, 52, 59, 61, 69, 79, 85, 88, 94, 100, 103, 108, 110, 113, 117, 120, 123, 133, 142, 160, 164, 177, 187, 191, 207, 209, 212, 216, 218, 232, 234, 238]\n"
     ]
    }
   ],
   "source": [
    "#calculating portfolio_value and noting down the required indices(i.e days to execute buy)\n",
    "#assumption: buy only if day d+1 is in bull state if  \n",
    "def portfoliovalue(state_list):\n",
    "    port_value=0\n",
    "    transactions=[]\n",
    "    for i in range(1,len(state_list)):\n",
    "        prev_state=state_list[i-1]\n",
    "        curr_state=state_list[i]\n",
    "        if curr_state==1 and prev_state==0:\n",
    "            port_value+=1\n",
    "            transactions.append(i)\n",
    "    return(port_value,transactions)\n",
    "port_value,buy_indices=portfoliovalue(state_list)\n",
    "print(port_value)\n",
    "print(buy_indices)\n",
    "        \n",
    "    \n",
    "    \n",
    "\n"
   ]
  },
  {
   "cell_type": "code",
   "execution_count": null,
   "id": "849dba6a-78a6-4f4d-878f-a2211e678f8a",
   "metadata": {},
   "outputs": [],
   "source": []
  }
 ],
 "metadata": {
  "kernelspec": {
   "display_name": "Python 3.9",
   "language": "python",
   "name": "python3"
  },
  "language_info": {
   "codemirror_mode": {
    "name": "ipython",
    "version": 3
   },
   "file_extension": ".py",
   "mimetype": "text/x-python",
   "name": "python",
   "nbconvert_exporter": "python",
   "pygments_lexer": "ipython3",
   "version": "3.9.12"
  }
 },
 "nbformat": 4,
 "nbformat_minor": 5
}
